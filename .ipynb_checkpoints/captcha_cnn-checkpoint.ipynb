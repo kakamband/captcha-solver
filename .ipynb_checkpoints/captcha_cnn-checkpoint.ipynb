{
 "cells": [
  {
   "cell_type": "code",
   "execution_count": null,
   "metadata": {
    "id": "92bRFW17OYK2"
   },
   "outputs": [],
   "source": [
    "#!pip install claptcha"
   ]
  },
  {
   "cell_type": "code",
   "execution_count": null,
   "metadata": {
    "id": "8AlT-pdb4MmP"
   },
   "outputs": [],
   "source": [
    "#!rm -R data/training\n",
    "#!rm -R data/validation"
   ]
  },
  {
   "cell_type": "code",
   "execution_count": null,
   "metadata": {
    "colab": {
     "base_uri": "https://localhost:8080/"
    },
    "id": "Ns5dn230mkEM",
    "outputId": "6ef4654d-6f16-4118-c39a-38a357435b5b"
   },
   "outputs": [],
   "source": [
    "#!rm -R data"
   ]
  },
  {
   "cell_type": "code",
   "execution_count": null,
   "metadata": {
    "id": "xyuenLWvCRzU"
   },
   "outputs": [],
   "source": [
    "#!rmdir /Q /S \"data/validation\"\n",
    "#!rmdir /Q /S \"data/training\""
   ]
  },
  {
   "cell_type": "code",
   "execution_count": null,
   "metadata": {
    "id": "FivJEw7f_p5T"
   },
   "outputs": [],
   "source": [
    "import numpy as np\n",
    "import matplotlib.pyplot as plt\n",
    "from PIL import Image\n",
    "import random\n",
    "import os\n",
    "import captcha_params\n",
    "from claptcha import Claptcha\n",
    "from scipy.sparse import csr_matrix\n",
    "import tensorflow as tf\n",
    "import os\n",
    "from __future__ import print_function\n",
    "import numpy as np\n",
    "import cv2\n",
    "\n",
    "np.random.seed(1337)  # for reproducibility\n",
    "\n",
    "from keras.utils import np_utils\n",
    "from keras import backend as K\n",
    "import keras\n",
    "from keras.models import Sequential, Model\n",
    "from keras.layers import Dense, Dropout, Activation, Flatten\n",
    "from keras.layers import Conv2D, MaxPooling2D, Input\n",
    "import h5py\n",
    "from keras.callbacks import ModelCheckpoint"
   ]
  },
  {
   "cell_type": "code",
   "execution_count": null,
   "metadata": {
    "id": "PbWV5eVbCRza"
   },
   "outputs": [],
   "source": [
    "N_DATASET = 200000\n",
    "N_TRAINING = N_DATASET * 0.8\n",
    "\n",
    "path_training = \"data/training\"\n",
    "path_validation = \"data/validation\"\n",
    "\n",
    "height_p = 46\n",
    "width_p = 180\n",
    "\n",
    "# input image dimensions\n",
    "img_rows, img_cols = captcha_params.get_height(), captcha_params.get_width()\n",
    "batch_size = 256\n",
    "created_labels = {}"
   ]
  },
  {
   "cell_type": "code",
   "execution_count": null,
   "metadata": {
    "id": "vBHoprDAMmPb"
   },
   "outputs": [],
   "source": [
    "# generate  the captcha text randomly from the char lists above\n",
    "def random_captcha_text(\n",
    "    char_set= captcha_params.get_char_set(),\n",
    "    captcha_size= captcha_params.get_captcha_size(),\n",
    "):  \n",
    "    good = False\n",
    "    while not good:\n",
    "        captcha_text = []\n",
    "        lab = \"\"\n",
    "        for i in range(captcha_size):\n",
    "            c = random.choice(char_set)\n",
    "            captcha_text.append(c)\n",
    "            lab += c\n",
    "        if created_labels.get(lab,None) is None:\n",
    "        good = True\n",
    "        created_labels[lab] = True\n",
    "    return captcha_text\n",
    "\n",
    "# generate the captcha text and image and save the image\n",
    "def gen_captcha_text_and_image(i,path='data'):\n",
    "    captcha_text = random_captcha_text()\n",
    "    captcha_text = \"\".join(captcha_text)\n",
    "    c = Claptcha(captcha_text, \"font.ttf\", (width_p,height_p), margin=(25,5))\n",
    "    if not os.path.exists(path):  # if the folder is not existed, create it\n",
    "        os.mkdir(path)\n",
    "    #print(path + type_dataset + '/' + str(i) + \"_\" + captcha_text + \".png\")\n",
    "    text, _ = c.write(path + '/' + str(i) + \"_\" + captcha_text + \".png\")\n",
    "    return text"
   ]
  },
  {
   "cell_type": "code",
   "execution_count": null,
   "metadata": {
    "colab": {
     "base_uri": "https://localhost:8080/"
    },
    "id": "Rs8cL90jOUxz",
    "outputId": "f7b1934d-0602-42bb-f87b-e01cf06fef78"
   },
   "outputs": [],
   "source": [
    "partition = {'train':[], 'validation':[]}\n",
    "labels = {}\n",
    "\n",
    "for i in range(N_DATASET):\n",
    "    if i % 10000 == 0 and i > 0:\n",
    "        print(i)\n",
    "    if i < N_TRAINING:\n",
    "        text = gen_captcha_text_and_image(i)\n",
    "        label = text\n",
    "        partition['train'].append(label)\n",
    "        labels[label] = i\n",
    "    else:\n",
    "        text = gen_captcha_text_and_image(i)\n",
    "        label = text\n",
    "        partition['validation'].append(label)\n",
    "        labels[label] = i"
   ]
  },
  {
   "cell_type": "code",
   "execution_count": null,
   "metadata": {
    "id": "AsfD3xlup8Ts"
   },
   "outputs": [],
   "source": [
    "partition_test = {'test':[]}\n",
    "labels_test = {}\n",
    "for i in range(10000):\n",
    "  text = gen_captcha_text_and_image(i,'test')\n",
    "  label = text\n",
    "  partition_test['test'].append(label)\n",
    "  labels_test[label] = i"
   ]
  },
  {
   "cell_type": "code",
   "execution_count": null,
   "metadata": {
    "id": "FFNjFaPPCRzi"
   },
   "outputs": [],
   "source": [
    "#tf.config.list_physical_devices('GPU')"
   ]
  },
  {
   "cell_type": "code",
   "execution_count": null,
   "metadata": {
    "id": "Fzi87vafdtTg"
   },
   "outputs": [],
   "source": [
    "# the length of the captcha text\n",
    "MAX_CAPTCHA = captcha_params.get_captcha_size()\n",
    "# the number of elements in the char set\n",
    "CHAR_SET_LEN = captcha_params.get_char_set_len()\n",
    "CHAR_SET = captcha_params.get_char_set()"
   ]
  },
  {
   "cell_type": "code",
   "execution_count": null,
   "metadata": {
    "id": "isT9tQCOCodu"
   },
   "outputs": [],
   "source": [
    "#tpu = tf.distribute.cluster_resolver.TPUClusterResolver()  # TPU detection\n",
    "#print('Running on TPU ', tpu.cluster_spec().as_dict()['worker'])\n",
    "#\n",
    "#tf.config.experimental_connect_to_cluster(tpu)\n",
    "#tf.tpu.experimental.initialize_tpu_system(tpu)\n",
    "#strategy = tf.distribute.experimental.TPUStrategy(tpu)\n",
    "#\n",
    "#print(\"REPLICAS: \", strategy.num_replicas_in_sync)"
   ]
  },
  {
   "cell_type": "code",
   "execution_count": null,
   "metadata": {
    "id": "nmz098cddQvF"
   },
   "outputs": [],
   "source": [
    "class DataGenerator(keras.utils.Sequence):\n",
    "    'Generates data for Keras'\n",
    "    def __init__(self, list_IDs, labels, batch_size=batch_size, dim=(height_p,width_p), n_channels=1,\n",
    "                 n_classes= CHAR_SET_LEN * MAX_CAPTCHA, shuffle=True,test=False):\n",
    "        self.dim = dim\n",
    "        self.batch_size = batch_size\n",
    "        self.labels = labels\n",
    "        self.list_IDs = list_IDs\n",
    "        self.n_channels = n_channels\n",
    "        self.n_classes = n_classes\n",
    "        self.shuffle = shuffle\n",
    "        self.on_epoch_end()\n",
    "        self.test = test\n",
    "\n",
    "    def __len__(self):\n",
    "        return int(np.floor(len(self.list_IDs) / self.batch_size))\n",
    "\n",
    "    def __getitem__(self, index):\n",
    "        'Generate one batch of data'\n",
    "        # Generate indexes of the batch\n",
    "        indexes = self.indexes[index*self.batch_size:(index+1)*self.batch_size]\n",
    "        # Find list of IDs\n",
    "        list_IDs_temp = [self.list_IDs[k] for k in indexes]\n",
    "        # Generate data\n",
    "        X, y = self.__data_generation(list_IDs_temp)\n",
    "        return X, y\n",
    "\n",
    "    def on_epoch_end(self):\n",
    "        self.indexes = np.arange(len(self.list_IDs))\n",
    "        if self.shuffle == True:\n",
    "            np.random.shuffle(self.indexes)\n",
    "\n",
    "    def __data_generation(self, list_IDs_temp):\n",
    "        # Initialization\n",
    "        X = np.empty((self.batch_size, int(self.dim[0] / 2), \n",
    "                      int(self.dim[1] / 2), self.n_channels),\n",
    "                      dtype=\"float32\")\n",
    "        #print(X.shape)\n",
    "        y = np.empty((self.batch_size, MAX_CAPTCHA, CHAR_SET_LEN), dtype=\"uint32\")\n",
    "        # Generate data\n",
    "        for i, ID in enumerate(list_IDs_temp):\n",
    "            if self.test:\n",
    "              img = cv2.imread('test/{}_{}.png'.format(self.labels[ID],ID))\n",
    "            else:\n",
    "              img = cv2.imread('data/{}_{}.png'.format(self.labels[ID],ID))\n",
    "            img = cv2.cvtColor(img, cv2.COLOR_BGR2GRAY)\n",
    "            img = cv2.resize(img, (int(self.dim[1] / 2), int(self.dim[0] / 2)), interpolation=cv2.INTER_AREA)\n",
    "            img = np.reshape(img, (img.shape[0], img.shape[1], 1))\n",
    "            #image = Image.open('data/{}_{}.png'.format(self.labels[ID],ID))\n",
    "            #image = image.convert('L')\n",
    "            arr = np.asarray(img, dtype=\"float32\")\n",
    "            X[i,]  = arr\n",
    "            label = np.zeros((MAX_CAPTCHA, CHAR_SET_LEN))\n",
    "            for j in range(MAX_CAPTCHA):\n",
    "              label[j, CHAR_SET.index(ID.lower()[j])] = 1\n",
    "            y[i] = label\n",
    "        y_final = []\n",
    "        for i in range(MAX_CAPTCHA):\n",
    "          y_final.append(y[:, i, :])\n",
    "        X = X.reshape(batch_size, int(img_rows/2), int(img_cols/2), 1)\n",
    "        X = X.astype('float32')\n",
    "        X /= 255\n",
    "        return X,y_final"
   ]
  },
  {
   "cell_type": "code",
   "execution_count": null,
   "metadata": {
    "id": "XRvlR4M2pX9q"
   },
   "outputs": [],
   "source": [
    "input_layer = Input((int(img_rows / 2), int(img_cols / 2), 1))\n",
    "x = Conv2D(filters=32, kernel_size=(5, 5), padding='same', activation='relu')(input_layer)\n",
    "x = MaxPooling2D(pool_size=(2, 2))(x)\n",
    "\n",
    "x = Conv2D(filters=48, kernel_size=(5, 5), padding='same', activation='relu')(x)\n",
    "x = MaxPooling2D(pool_size=(2, 2))(x)\n",
    "\n",
    "x = Conv2D(filters=64, kernel_size=(5, 5), padding='same', activation='relu')(x)\n",
    "x = MaxPooling2D(pool_size=(2, 2))(x)\n",
    "\n",
    "x = Dropout(0.3)(x)\n",
    "x = Flatten()(x)\n",
    "x = Dense(512, activation='relu')(x)\n",
    "x = Dropout(0.3)(x)\n",
    "\n",
    "out = [Dense(CHAR_SET_LEN, name='digit%d' % i, activation='softmax')(x) for i in range(MAX_CAPTCHA)]\n",
    "# out = Dense(num_alphabet*5, activation='sigmoid')(x)\n",
    "\n",
    "model = Model(inputs=input_layer, outputs=out)"
   ]
  },
  {
   "cell_type": "code",
   "execution_count": null,
   "metadata": {
    "colab": {
     "base_uri": "https://localhost:8080/"
    },
    "id": "s7Y6_MeVgaGT",
    "outputId": "a0d51151-858c-4fbb-9ca2-2e2383777a88"
   },
   "outputs": [],
   "source": [
    "import numpy as np\n",
    "from keras.models import Sequential\n",
    "\n",
    "# Parameters\n",
    "params = {'dim': (height_p,width_p),\n",
    "          'batch_size': batch_size,\n",
    "          'n_classes': MAX_CAPTCHA * CHAR_SET_LEN,\n",
    "          'n_channels': 1,\n",
    "          'shuffle': True,\n",
    "          'test':False}\n",
    "\n",
    "# Generators\n",
    "training_generator = DataGenerator(partition['train'], labels, **params)\n",
    "validation_generator = DataGenerator(partition['validation'], labels, **params)\n",
    "\n",
    "#checkpoint_filepath = 'checkpoint/200k_model.ckpt'\n",
    "#model_checkpoint_callback = tf.keras.callbacks.ModelCheckpoint(\n",
    "#    filepath=checkpoint_filepath,\n",
    "#    save_weights_only=True,\n",
    "#    monitor='val_accuracy',\n",
    "#    mode='max',\n",
    "#    save_best_only=True)\n",
    "\n",
    "# Design model\n",
    "#with strategy.scope():\n",
    "#input_shape = (img_rows, img_cols, 1)\n",
    "#model = load_model.get_model(input_shape)\n",
    "#optimizer = keras.optimizers.Adadelta(learning_rate=0.)\n",
    "model.compile(loss=\"binary_crossentropy\", optimizer='adam',metrics=[\"accuracy\"])\n",
    "model.summary() "
   ]
  },
  {
   "cell_type": "code",
   "execution_count": null,
   "metadata": {
    "colab": {
     "base_uri": "https://localhost:8080/"
    },
    "id": "9tXzTS8akpuW",
    "outputId": "ce6a05da-7106-4c86-eb4a-9b03574a6df7"
   },
   "outputs": [],
   "source": [
    "# Train model on dataset\n",
    "model.fit(training_generator, validation_data=validation_generator, epochs=65, callbacks=[model_checkpoint_callback])"
   ]
  },
  {
   "cell_type": "code",
   "execution_count": null,
   "metadata": {
    "colab": {
     "base_uri": "https://localhost:8080/"
    },
    "id": "v63rOfnlIAT8",
    "outputId": "65b02c5f-108e-4fc1-fe96-1dd39d424988"
   },
   "outputs": [],
   "source": [
    "model.save(\"model\")"
   ]
  },
  {
   "cell_type": "code",
   "execution_count": null,
   "metadata": {
    "colab": {
     "base_uri": "https://localhost:8080/"
    },
    "id": "9guDL0mNBsed",
    "outputId": "40b0f9ae-bf99-4e65-80ac-6deb9d9e74e6"
   },
   "outputs": [],
   "source": [
    "#from google.colab import drive\n",
    "#drive.mount('/content/drive')"
   ]
  },
  {
   "cell_type": "code",
   "execution_count": null,
   "metadata": {
    "id": "2zzEYwKHrgJg"
   },
   "outputs": [],
   "source": [
    "# Parameters\n",
    "params = {'dim': (height_p,width_p),\n",
    "          'batch_size': batch_size,\n",
    "          'n_classes': MAX_CAPTCHA * CHAR_SET_LEN,\n",
    "          'n_channels': 1,\n",
    "          'shuffle': True,\n",
    "          'test':True}\n",
    "\n",
    "# Generators\n",
    "test_generator = DataGenerator(partition_test['test'], labels_test, **params)"
   ]
  },
  {
   "cell_type": "code",
   "execution_count": null,
   "metadata": {
    "id": "uK_i-vgqAnhf"
   },
   "outputs": [],
   "source": [
    "score = model.evaluate(test_generator, verbose=0)"
   ]
  },
  {
   "cell_type": "code",
   "execution_count": null,
   "metadata": {
    "colab": {
     "base_uri": "https://localhost:8080/"
    },
    "id": "SITV0GF0AtsO",
    "outputId": "4d23565c-5109-4710-d151-627ce85aa86d"
   },
   "outputs": [],
   "source": [
    "for i in range(len(model.metrics_names)):\n",
    "    print('{}: {}'.format(model.metrics_names[i],score[i]))"
   ]
  },
  {
   "cell_type": "code",
   "execution_count": null,
   "metadata": {
    "colab": {
     "base_uri": "https://localhost:8080/"
    },
    "id": "cROSFMt7sYhR",
    "outputId": "dfae00b4-4bf9-4a59-ecf1-f414fec40e0d"
   },
   "outputs": [],
   "source": [
    "acc = 0\n",
    "tot = 0\n",
    "for x,y in test_generator:\n",
    "    X_test = x\n",
    "    y_test = y\n",
    "    predict = model.predict(X_test, batch_size=batch_size, verbose=0)\n",
    "    for i in range(batch_size):\n",
    "      tot += 1\n",
    "      true = []\n",
    "      pred = []\n",
    "      for j in range(MAX_CAPTCHA):\n",
    "        true.append(CHAR_SET[np.argmax(y_test[j][i])])\n",
    "        pred.append(CHAR_SET[np.argmax(predict[j][i])])\n",
    "      if tot % 100 == 0:\n",
    "        print('TRUE: {}'.format(true))\n",
    "        print('PREDICTED: {}'.format(pred))\n",
    "        print('='*75)\n",
    "      if true == pred:\n",
    "        acc += 1\n",
    "print('ACCURACY: {}'.format(acc / tot))"
   ]
  }
 ],
 "metadata": {
  "accelerator": "GPU",
  "colab": {
   "collapsed_sections": [],
   "name": "captcha_cnn_new.ipynb",
   "provenance": [],
   "toc_visible": true
  },
  "kernelspec": {
   "display_name": "Python 3",
   "language": "python",
   "name": "python3"
  },
  "language_info": {
   "codemirror_mode": {
    "name": "ipython",
    "version": 3
   },
   "file_extension": ".py",
   "mimetype": "text/x-python",
   "name": "python",
   "nbconvert_exporter": "python",
   "pygments_lexer": "ipython3",
   "version": "3.7.9"
  }
 },
 "nbformat": 4,
 "nbformat_minor": 1
}
